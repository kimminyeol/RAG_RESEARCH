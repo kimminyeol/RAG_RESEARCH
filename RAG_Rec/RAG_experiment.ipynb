{
 "cells": [
  {
   "cell_type": "markdown",
   "metadata": {},
   "source": [
    "# **Settings**"
   ]
  },
  {
   "cell_type": "markdown",
   "metadata": {},
   "source": [
    "# 라이브러리 불러오기"
   ]
  },
  {
   "cell_type": "code",
   "execution_count": 2,
   "metadata": {},
   "outputs": [],
   "source": [
    "import os\n",
    "import sys\n",
    "from langchain_community.document_loaders.csv_loader import CSVLoader\n",
    "from pathlib import Path\n",
    "from langchain_openai import ChatOpenAI,OpenAIEmbeddings\n",
    "import os\n",
    "from dotenv import load_dotenv\n",
    "load_dotenv()\n",
    "from langchain.document_loaders import CSVLoader\n",
    "from langchain.text_splitter import TextSplitter\n",
    "from langchain.vectorstores import FAISS\n",
    "from langchain.embeddings import HuggingFaceEmbeddings\n",
    "from langchain.prompts import PromptTemplate\n",
    "import pandas as pd\n",
    "import networkx as nx\n",
    "import math\n",
    "import ast\n",
    "import torch\n",
    "# os.chdir('/Users/mac/AIworkspace/LLMWORKSPACE/RAG_Rec')\n",
    "# Set the OpenAI API key environment variable\n",
    "os.environ[\"OPENAI_API_KEY\"] = os.getenv('OPENAI_API_KEY')"
   ]
  },
  {
   "cell_type": "markdown",
   "metadata": {},
   "source": [
    "# 데이터 불러오기"
   ]
  },
  {
   "cell_type": "code",
   "execution_count": 14,
   "metadata": {},
   "outputs": [
    {
     "name": "stdout",
     "output_type": "stream",
     "text": [
      "/Users/mac/AIworkspace/LLMWORKSPACE/RAG_Rec\n"
     ]
    }
   ],
   "source": [
    "print(os.getcwd())\n",
    "device = torch.device(\"mps\")"
   ]
  },
  {
   "cell_type": "code",
   "execution_count": 3,
   "metadata": {},
   "outputs": [],
   "source": [
    "# file_path = ('data/movie_record_per_user.csv')\n",
    "file_path='data/train_movie.csv'\n",
    "data = pd.read_csv(file_path)\n",
    "# 'movie_explain' 열을 리스트로 변환\n",
    "data['movie_explain'] = data['movie_explain'].apply(ast.literal_eval)"
   ]
  },
  {
   "cell_type": "code",
   "execution_count": 6,
   "metadata": {},
   "outputs": [
    {
     "data": {
      "text/html": [
       "<div>\n",
       "<style scoped>\n",
       "    .dataframe tbody tr th:only-of-type {\n",
       "        vertical-align: middle;\n",
       "    }\n",
       "\n",
       "    .dataframe tbody tr th {\n",
       "        vertical-align: top;\n",
       "    }\n",
       "\n",
       "    .dataframe thead th {\n",
       "        text-align: right;\n",
       "    }\n",
       "</style>\n",
       "<table border=\"1\" class=\"dataframe\">\n",
       "  <thead>\n",
       "    <tr style=\"text-align: right;\">\n",
       "      <th></th>\n",
       "      <th>UserId</th>\n",
       "      <th>movie_explain</th>\n",
       "    </tr>\n",
       "  </thead>\n",
       "  <tbody>\n",
       "    <tr>\n",
       "      <th>0</th>\n",
       "      <td>1</td>\n",
       "      <td>[3186 (Drama) ratings: 4, 1270 (Comedy|Sci-Fi)...</td>\n",
       "    </tr>\n",
       "    <tr>\n",
       "      <th>1</th>\n",
       "      <td>2</td>\n",
       "      <td>[1198 (Action|Adventure) ratings: 4, 1210 (Act...</td>\n",
       "    </tr>\n",
       "    <tr>\n",
       "      <th>2</th>\n",
       "      <td>3</td>\n",
       "      <td>[593 (Drama|Thriller) ratings: 3, 2858 (Comedy...</td>\n",
       "    </tr>\n",
       "    <tr>\n",
       "      <th>3</th>\n",
       "      <td>4</td>\n",
       "      <td>[1210 (Action|Adventure|Romance|Sci-Fi|War) ra...</td>\n",
       "    </tr>\n",
       "    <tr>\n",
       "      <th>4</th>\n",
       "      <td>5</td>\n",
       "      <td>[2717 (Comedy|Horror) ratings: 1, 908 (Drama|T...</td>\n",
       "    </tr>\n",
       "    <tr>\n",
       "      <th>...</th>\n",
       "      <td>...</td>\n",
       "      <td>...</td>\n",
       "    </tr>\n",
       "    <tr>\n",
       "      <th>6035</th>\n",
       "      <td>6036</td>\n",
       "      <td>[1721 (Drama|Romance) ratings: 4, 2428 (Horror...</td>\n",
       "    </tr>\n",
       "    <tr>\n",
       "      <th>6036</th>\n",
       "      <td>6037</td>\n",
       "      <td>[1882 (Action|Sci-Fi) ratings: 1, 3508 (Wester...</td>\n",
       "    </tr>\n",
       "    <tr>\n",
       "      <th>6037</th>\n",
       "      <td>6038</td>\n",
       "      <td>[920 (Drama|Romance|War) ratings: 3, 3396 (Chi...</td>\n",
       "    </tr>\n",
       "    <tr>\n",
       "      <th>6038</th>\n",
       "      <td>6039</td>\n",
       "      <td>[282 (Drama) ratings: 4, 111 (Drama|Thriller) ...</td>\n",
       "    </tr>\n",
       "    <tr>\n",
       "      <th>6039</th>\n",
       "      <td>6040</td>\n",
       "      <td>[858 (Action|Crime|Drama) ratings: 4, 593 (Dra...</td>\n",
       "    </tr>\n",
       "  </tbody>\n",
       "</table>\n",
       "<p>6040 rows × 2 columns</p>\n",
       "</div>"
      ],
      "text/plain": [
       "      UserId                                      movie_explain\n",
       "0          1  [3186 (Drama) ratings: 4, 1270 (Comedy|Sci-Fi)...\n",
       "1          2  [1198 (Action|Adventure) ratings: 4, 1210 (Act...\n",
       "2          3  [593 (Drama|Thriller) ratings: 3, 2858 (Comedy...\n",
       "3          4  [1210 (Action|Adventure|Romance|Sci-Fi|War) ra...\n",
       "4          5  [2717 (Comedy|Horror) ratings: 1, 908 (Drama|T...\n",
       "...      ...                                                ...\n",
       "6035    6036  [1721 (Drama|Romance) ratings: 4, 2428 (Horror...\n",
       "6036    6037  [1882 (Action|Sci-Fi) ratings: 1, 3508 (Wester...\n",
       "6037    6038  [920 (Drama|Romance|War) ratings: 3, 3396 (Chi...\n",
       "6038    6039  [282 (Drama) ratings: 4, 111 (Drama|Thriller) ...\n",
       "6039    6040  [858 (Action|Crime|Drama) ratings: 4, 593 (Dra...\n",
       "\n",
       "[6040 rows x 2 columns]"
      ]
     },
     "execution_count": 6,
     "metadata": {},
     "output_type": "execute_result"
    }
   ],
   "source": [
    "data"
   ]
  },
  {
   "cell_type": "markdown",
   "metadata": {},
   "source": [
    "## 1. 청킹 + 헤더 사용 \n",
    "- 평점과 장르가 갑자기 변화하는 구간을 포착하여 해당 구간을 기준으로 청킹 \n",
    "- 청크의 수가 너무 적으면 안 되므로 최소 10개가 되도록 \n",
    "- 이후 헤더를 활용하여 한 사용자의 모든 청크에 요약을 하여 변화를 파악하도록 함 \n"
   ]
  },
  {
   "cell_type": "code",
   "execution_count": 7,
   "metadata": {},
   "outputs": [],
   "source": [
    "import pandas as pd\n",
    "import ast\n",
    "from langchain.embeddings import HuggingFaceEmbeddings\n",
    "from langchain.vectorstores import FAISS\n",
    "\n",
    "def chunk_interactions_with_minimum(interactions, rating_threshold=2, min_items=10):\n",
    "    \"\"\"\n",
    "    평점 변화 및 장르 변화 기준으로 청킹 후, 최소 10개의 상호작용이 포함되도록 조정.\n",
    "\n",
    "    Args:\n",
    "        interactions (list): 사용자 상호작용 리스트.\n",
    "        rating_threshold (int): 평점 변화 임계값.\n",
    "        min_items (int): 최소 상호작용 개수.\n",
    "\n",
    "    Returns:\n",
    "        list: 최소 상호작용 개수를 만족하는 청킹된 리스트.\n",
    "    \"\"\"\n",
    "    chunks = []  # 청킹 결과 저장\n",
    "    current_chunk = [interactions[0]]  # 첫 번째 상호작용으로 초기화\n",
    "\n",
    "    for i in range(1, len(interactions)):\n",
    "        prev = interactions[i - 1]\n",
    "        current = interactions[i]\n",
    "\n",
    "        # 이전 및 현재 상호작용의 평점과 장르 추출\n",
    "        prev_rating = int(prev.split('ratings: ')[1])\n",
    "        current_rating = int(current.split('ratings: ')[1])\n",
    "        prev_genres = set(prev.split(' (')[1].split(')')[0].split('|'))\n",
    "        current_genres = set(current.split(' (')[1].split(')')[0].split('|'))\n",
    "\n",
    "        # 조건 1: 장르가 포함되지 않은 경우\n",
    "        genre_disjoint = len(prev_genres & current_genres) == 0\n",
    "\n",
    "        # 조건 2: 평점 변화가 임계값 이상인 경우\n",
    "        rating_diff = abs(current_rating - prev_rating) >= rating_threshold\n",
    "\n",
    "        # 조건을 만족하면 청킹\n",
    "        if genre_disjoint or rating_diff:\n",
    "            if len(current_chunk) >= min_items:\n",
    "                chunks.append(current_chunk)  # 현재 청크 저장\n",
    "                current_chunk = []  # 새로운 청크 시작\n",
    "\n",
    "        current_chunk.append(current)\n",
    "\n",
    "    # 마지막 청크 추가\n",
    "    if current_chunk:\n",
    "        chunks.append(current_chunk)\n",
    "\n",
    "    # 최소 상호작용 개수 보장\n",
    "    if len(chunks) > 1:\n",
    "        merged_chunks = []\n",
    "        temp_chunk = []\n",
    "\n",
    "        for chunk in chunks:\n",
    "            temp_chunk.extend(chunk)\n",
    "            if len(temp_chunk) >= min_items:\n",
    "                merged_chunks.append(temp_chunk)\n",
    "                temp_chunk = []\n",
    "\n",
    "        if temp_chunk:  # 남아 있는 항목 처리\n",
    "            if merged_chunks:\n",
    "                merged_chunks[-1].extend(temp_chunk)\n",
    "            else:\n",
    "                merged_chunks.append(temp_chunk)\n",
    "\n",
    "        return merged_chunks\n",
    "\n",
    "    return chunks  # 청킹 결과 반환"
   ]
  },
  {
   "cell_type": "markdown",
   "metadata": {},
   "source": [
    "- 최소보장이 없는 코드 \n",
    "- 최소보장이 없는 경우, 청크의 길이가 극단적인 경우가 발생하므로 유의미한 청크 검색이 불가능"
   ]
  },
  {
   "cell_type": "code",
   "execution_count": 9,
   "metadata": {},
   "outputs": [],
   "source": [
    "# # 최소보장 없는 코드 \n",
    "# def chunk_interactions(interactions, rating_threshold=2):\n",
    "#     chunks = []  # 청킹 결과 저장\n",
    "#     current_chunk = [interactions[0]]  # 첫 번째 상호작용으로 초기화\n",
    "\n",
    "#     for i in range(1, len(interactions)):\n",
    "#         prev = interactions[i - 1]\n",
    "#         current = interactions[i]\n",
    "\n",
    "#         # 이전 및 현재 상호작용의 평점과 장르 추출\n",
    "#         prev_rating = int(prev.split('ratings: ')[1])\n",
    "#         current_rating = int(current.split('ratings: ')[1])\n",
    "#         prev_genres = set(prev.split(' (')[1].split(')')[0].split('|'))\n",
    "#         current_genres = set(current.split(' (')[1].split(')')[0].split('|'))\n",
    "\n",
    "#         # 조건 1: 장르가 포함되지 않은 경우\n",
    "#         genre_disjoint = len(prev_genres & current_genres) == 0\n",
    "\n",
    "#         # 조건 2: 평점 변화가 임계값 이상인 경우\n",
    "#         rating_diff = abs(current_rating - prev_rating) >= rating_threshold\n",
    "\n",
    "#         # 조건을 만족하면 청킹\n",
    "#         if genre_disjoint or rating_diff:\n",
    "#             chunks.append(current_chunk)  # 현재 청크 저장\n",
    "#             current_chunk = []  # 새로운 청크 시작\n",
    "\n",
    "#         current_chunk.append(current)\n",
    "\n",
    "#     # 마지막 청크 추가\n",
    "#     if current_chunk:\n",
    "#         chunks.append(current_chunk)\n",
    "\n",
    "#     return chunks  # 청킹 결과 반환"
   ]
  },
  {
   "cell_type": "code",
   "execution_count": 8,
   "metadata": {},
   "outputs": [],
   "source": [
    "\n",
    "all_chunks = []  # 모든 청크를 저장할 리스트\n",
    "metadata_list = []  # 메타데이터 저장 리스트\n",
    "chunked_by_user = {}  # 사용자별 청킹 결과 저장\n",
    "\n",
    "# 사용자별로 청킹 수행\n",
    "for _, row in data.iterrows():\n",
    "    user_id = row['UserId']  # 사용자 ID\n",
    "    interactions = row['movie_explain']  # 상호작용 리스트\n",
    "\n",
    "    # 청킹 수행\n",
    "    chunks = chunk_interactions_with_minimum(interactions, rating_threshold=2, min_items=5)\n",
    "    # chunks=chunk_interactions(interactions, rating_threshold=3)\n",
    "    # 사용자별로 청크 저장\n",
    "    chunked_by_user[user_id] = chunks\n",
    "\n",
    "    # 각 청크에 대해 메타데이터 추가\n",
    "    for index, chunk in enumerate(chunks):\n",
    "        chunk_text = \" \".join(chunk)  # 리스트를 문자열로 변환\n",
    "        all_chunks.append(chunk_text)\n",
    "        metadata_list.append({\"UserId\": user_id, \"chunk_index\": index})  # 사용자 ID와 청크 번호 추가\n"
   ]
  },
  {
   "cell_type": "code",
   "execution_count": 9,
   "metadata": {},
   "outputs": [
    {
     "data": {
      "text/plain": [
       "135399"
      ]
     },
     "execution_count": 9,
     "metadata": {},
     "output_type": "execute_result"
    }
   ],
   "source": [
    "len(all_chunks)"
   ]
  },
  {
   "cell_type": "markdown",
   "metadata": {},
   "source": [
    "# 벡터 스토어 불러오기 \n",
    "- header 존재\n",
    "1. vectorstore_index_full_movie_header\n",
    "2. vectorstore_index_header_ratings_min10\n",
    "- header 없음\n",
    "3. vectorstore_index_ratings_min10, vectorstore_index_ratings_min5_no ,vectorstore_index_ratings_no_limit => no-title\n",
    "4. vectorstore_index_full_movie_nochunking => no-chunking, no-title\n",
    "5. vectorstore_index_ratings_min10_with_title\n",
    "6. vectorstore_index_full_movie_nochunking_with_title\n",
    "\n"
   ]
  },
  {
   "cell_type": "code",
   "execution_count": 4,
   "metadata": {},
   "outputs": [
    {
     "name": "stderr",
     "output_type": "stream",
     "text": [
      "/tmp/ipykernel_372884/321042087.py:1: LangChainDeprecationWarning: The class `HuggingFaceEmbeddings` was deprecated in LangChain 0.2.2 and will be removed in 1.0. An updated version of the class exists in the :class:`~langchain-huggingface package and should be used instead. To use it run `pip install -U :class:`~langchain-huggingface` and import as `from :class:`~langchain_huggingface import HuggingFaceEmbeddings``.\n",
      "  embeddings = HuggingFaceEmbeddings(model_name=\"sentence-transformers/all-MiniLM-L6-v2\")\n",
      "/home/rlaalsduf/miniconda3/envs/rag_rec/lib/python3.13/site-packages/tqdm/auto.py:21: TqdmWarning: IProgress not found. Please update jupyter and ipywidgets. See https://ipywidgets.readthedocs.io/en/stable/user_install.html\n",
      "  from .autonotebook import tqdm as notebook_tqdm\n"
     ]
    }
   ],
   "source": [
    "embeddings = HuggingFaceEmbeddings(model_name=\"sentence-transformers/all-MiniLM-L6-v2\")\n",
    "vectorstore = FAISS.load_local(\n",
    "    \"vectorstore_index_ratings_min5_no\",\n",
    "    embeddings,\n",
    "    allow_dangerous_deserialization=True  # 역직렬화 허용\n",
    ")"
   ]
  },
  {
   "cell_type": "markdown",
   "metadata": {},
   "source": [
    "## 정답 데이터셋 "
   ]
  },
  {
   "cell_type": "code",
   "execution_count": 15,
   "metadata": {},
   "outputs": [
    {
     "data": {
      "text/plain": [
       "'[\"48 (Animation|Children\\'s|Musical|Romance) ratings: 5\"]'"
      ]
     },
     "execution_count": 15,
     "metadata": {},
     "output_type": "execute_result"
    }
   ],
   "source": [
    "file_path_test='data/test_movie.csv'\n",
    "# 최신 구매 기록을 가져옴\n",
    "purchase_history=data.iloc[0]['movie_explain']\n",
    "# 정답 데이터셋 가져옴\n",
    "df_test=pd.read_csv(file_path_test)\n",
    "# 정답\n",
    "df_test.iloc[0].movie_explain\n"
   ]
  },
  {
   "cell_type": "code",
   "execution_count": 16,
   "metadata": {},
   "outputs": [
    {
     "name": "stderr",
     "output_type": "stream",
     "text": [
      "/var/folders/gl/6qlsk6x94klgs54qzsg9q1jm0000gn/T/ipykernel_1921/2461333566.py:3: LangChainDeprecationWarning: The method `BaseRetriever.get_relevant_documents` was deprecated in langchain-core 0.1.46 and will be removed in 1.0. Use :meth:`~invoke` instead.\n",
      "  records = retriever.get_relevant_documents(query)\n"
     ]
    },
    {
     "name": "stdout",
     "output_type": "stream",
     "text": [
      "1907 (Animation|Children's) ratings: 4\n"
     ]
    },
    {
     "data": {
      "text/plain": [
       "[Document(metadata={'UserId': 264, 'chunk_index': 59}, page_content=\"1907 (Animation|Children's) ratings: 3 1033 (Animation|Children's) ratings: 2 2014 (Children's|Comedy) ratings: 3 2047 (Children's) ratings: 3 3287 (Animation|Children's) ratings: 2\"),\n",
       " Document(metadata={'UserId': 5605, 'chunk_index': 17}, page_content=\"1907 (Animation|Children's) ratings: 2 1025 (Animation|Children's) ratings: 4 2085 (Animation|Children's) ratings: 4 2090 (Animation|Children's) ratings: 2 2137 (Animation|Children's) ratings: 2 2355 (Animation|Children's|Comedy) ratings: 3\"),\n",
       " Document(metadata={'UserId': 5664, 'chunk_index': 15}, page_content=\"1907 (Animation|Children's) ratings: 2 1025 (Animation|Children's) ratings: 4 2048 (Animation|Children's) ratings: 4 2092 (Animation|Children's|Musical) ratings: 2 3054 (Animation|Children's) ratings: 4\"),\n",
       " Document(metadata={'UserId': 4523, 'chunk_index': 7}, page_content=\"1907 (Animation|Children's) ratings: 1 62 (Drama) ratings: 4 1721 (Drama|Romance) ratings: 3 524 (Drama) ratings: 4 3052 (Comedy) ratings: 1\"),\n",
       " Document(metadata={'UserId': 1389, 'chunk_index': 19}, page_content=\"1907 (Animation|Children's) ratings: 2 2081 (Animation|Children's|Comedy|Musical|Romance) ratings: 4 2294 (Animation|Children's) ratings: 5 3034 (Animation|Children's) ratings: 4 2099 (Adventure|Animation|Children's|Musical) ratings: 5\"),\n",
       " Document(metadata={'UserId': 5490, 'chunk_index': 11}, page_content=\"1907 (Animation|Children's) ratings: 3 783 (Animation|Children's|Musical) ratings: 3 1405 (Animation|Comedy) ratings: 2 2092 (Animation|Children's|Musical) ratings: 3 3400 (Animation|Children's) ratings: 3\"),\n",
       " Document(metadata={'UserId': 1386, 'chunk_index': 5}, page_content=\"1907 (Animation|Children's) ratings: 1 2081 (Animation|Children's|Comedy|Musical|Romance) ratings: 1 2394 (Animation|Musical) ratings: 1 364 (Animation|Children's|Musical) ratings: 1 2090 (Animation|Children's) ratings: 1\"),\n",
       " Document(metadata={'UserId': 5472, 'chunk_index': 12}, page_content=\"1907 (Animation|Children's) ratings: 4 1663 (Comedy) ratings: 3 1294 (Comedy|War) ratings: 2 3028 (Comedy) ratings: 3 1296 (Drama|Romance) ratings: 3\"),\n",
       " Document(metadata={'UserId': 637, 'chunk_index': 46}, page_content=\"1907 (Animation|Children's) ratings: 4 1931 (Adventure) ratings: 4 3189 (Comedy) ratings: 5 3098 (Drama) ratings: 3 2161 (Adventure|Children's|Fantasy) ratings: 4\"),\n",
       " Document(metadata={'UserId': 2255, 'chunk_index': 5}, page_content=\"1907 (Animation|Children's) ratings: 5 1015 (Adventure|Children's) ratings: 4 1023 (Animation|Children's) ratings: 4 531 (Children's|Drama) ratings: 4 986 (Adventure|Children's) ratings: 4 2687 (Animation|Children's) ratings: 4 3672 (Adventure|Children's) ratings: 4 1033 (Animation|Children's) ratings: 4 2090 (Animation|Children's) ratings: 4 616 (Animation|Children's) ratings: 5\")]"
      ]
     },
     "execution_count": 16,
     "metadata": {},
     "output_type": "execute_result"
    }
   ],
   "source": [
    "# purchase history(최신 구매기록)을 본 타 사용자들의 구매기록과 비교하여 검색\n",
    "query = \" \".join(purchase_history[-1:])  # 리스트를 문자열로 변환\n",
    "retriever = vectorstore.as_retriever(search_kwargs={\"k\": 10})\n",
    "records = retriever.get_relevant_documents(query)\n",
    "print(query)\n",
    "records"
   ]
  },
  {
   "cell_type": "markdown",
   "metadata": {},
   "source": [
    "# 메타 데이터를 활용하여 검색한 정보 앞뒤의 내용을 함께 가져옴 \n",
    "- window size 설정\n",
    "- 검색 개수 k 설정"
   ]
  },
  {
   "cell_type": "code",
   "execution_count": 18,
   "metadata": {},
   "outputs": [],
   "source": [
    "from typing import List\n",
    "from langchain.vectorstores import FAISS\n",
    "from langchain.schema import Document\n",
    "\n",
    "def get_documents_with_context(\n",
    "    vectorstore: FAISS,\n",
    "    query: str,\n",
    "    k: int = 10,\n",
    "    context_window: int = 1\n",
    ") -> List[List[Document]]:\n",
    "    \"\"\"\n",
    "    FAISS 벡터스토어에서 검색 결과와 각 결과의 앞뒤 문서들을 함께 반환합니다.\n",
    "    \n",
    "    Args:\n",
    "        vectorstore: FAISS 벡터스토어 인스턴스\n",
    "        query: 검색 쿼리\n",
    "        k: 검색할 문서 수 (default: 10)\n",
    "        context_window: 앞뒤로 가져올 문서 수 (default: 1)\n",
    "    \n",
    "    Returns:\n",
    "        List[List[Document]]: 각 검색 결과에 대해 [이전 문서들, 현재 문서, 다음 문서들]을 포함하는 리스트\n",
    "    \"\"\"\n",
    "    # 1. 초기 검색 수행\n",
    "    retriever = vectorstore.as_retriever(search_kwargs={\"k\": k})\n",
    "    results = retriever.get_relevant_documents(query)\n",
    "    \n",
    "    # 2. 모든 문서와 메타데이터를 딕셔너리로 구성\n",
    "    # UserId를 키로 하고, 그 안에 chunk_index를 키로 하는 중첩 딕셔너리 생성\n",
    "    all_docs = {}\n",
    "    for doc_id, doc in enumerate(vectorstore.docstore._dict.values()):\n",
    "        user_id = doc.metadata['UserId']\n",
    "        chunk_idx = doc.metadata['chunk_index']\n",
    "        \n",
    "        if user_id not in all_docs:\n",
    "            all_docs[user_id] = {}\n",
    "        all_docs[user_id][chunk_idx] = doc\n",
    "    \n",
    "    context_results = []\n",
    "    \n",
    "    # 3. 각 검색 결과에 대해 컨텍스트 추가\n",
    "    for doc in results:\n",
    "        current_user_id = doc.metadata['UserId']\n",
    "        current_chunk_index = doc.metadata['chunk_index']\n",
    "        \n",
    "        context_docs = []\n",
    "        \n",
    "        # 이전 문서들 추가\n",
    "        for i in range(current_chunk_index - context_window, current_chunk_index):\n",
    "            if current_user_id in all_docs and i in all_docs[current_user_id]:\n",
    "                context_docs.append(all_docs[current_user_id][i])\n",
    "        \n",
    "        # 현재 문서 추가\n",
    "        context_docs.append(doc)\n",
    "        \n",
    "        # 다음 문서들 추가\n",
    "        for i in range(current_chunk_index + 1, current_chunk_index + context_window + 1):\n",
    "            if current_user_id in all_docs and i in all_docs[current_user_id]:\n",
    "                context_docs.append(all_docs[current_user_id][i])\n",
    "        \n",
    "        context_results.append(context_docs)\n",
    "    \n",
    "    return context_results\n"
   ]
  },
  {
   "cell_type": "code",
   "execution_count": 19,
   "metadata": {},
   "outputs": [
    {
     "data": {
      "text/plain": [
       "\"3438 (Action|Children's|Fantasy) ratings: 1 3114 (Animation|Children's|Comedy) ratings: 3 3066 (War) ratings: 3 1101 (Action|Romance) ratings: 5 3253 (Comedy) ratings: 2\\n1907 (Animation|Children's) ratings: 3 1033 (Animation|Children's) ratings: 2 2014 (Children's|Comedy) ratings: 3 2047 (Children's) ratings: 3 3287 (Animation|Children's) ratings: 2\\n1292 (Comedy) ratings: 4 2921 (Western) ratings: 3 3623 (Action|Thriller) ratings: 3 3510 (Drama|Thriller) ratings: 4 3505 (Thriller) ratings: 4\\n594 (Animation|Children's|Musical) ratings: 3 2876 (Animation|Children's) ratings: 2 588 (Animation|Children's|Comedy|Musical) ratings: 4 595 (Animation|Children's|Musical) ratings: 4 2096 (Animation|Children's|Musical) ratings: 4 2495 (Animation|Sci-Fi) ratings: 5\\n1907 (Animation|Children's) ratings: 2 1025 (Animation|Children's) ratings: 4 2085 (Animation|Children's) ratings: 4 2090 (Animation|Children's) ratings: 2 2137 (Animation|Children's) ratings: 2 2355 (Animation|Children's|Comedy) ratings: 3\\n2700 (Animation|Comedy) ratings: 5 2018 (Animation|Children's) ratings: 2 596 (Animation|Children's) ratings: 3 2078 (Animation|Children's|Comedy|Musical) ratings: 4 2081 (Animation|Children's|Comedy|Musical|Romance) ratings: 4\\n1566 (Adventure|Animation|Children's|Comedy|Musical) ratings: 2 3034 (Animation|Children's) ratings: 4 2096 (Animation|Children's|Musical) ratings: 4 2294 (Animation|Children's) ratings: 5 2090 (Animation|Children's) ratings: 4\\n1907 (Animation|Children's) ratings: 2 1025 (Animation|Children's) ratings: 4 2048 (Animation|Children's) ratings: 4 2092 (Animation|Children's|Musical) ratings: 2 3054 (Animation|Children's) ratings: 4\\n2566 (Animation|Children's) ratings: 1 2354 (Animation|Children's|Comedy) ratings: 1 2858 (Comedy|Drama) ratings: 5 1265 (Comedy|Romance) ratings: 5 2396 (Comedy|Romance) ratings: 5 441 (Comedy) ratings: 4 2542 (Comedy|Crime|Thriller) ratings: 5 357 (Comedy|Romance) ratings: 4 2395 (Comedy) ratings: 5 2321 (Comedy) ratings: 4 3052 (Comedy) ratings: 5 551 (Children's|Comedy|Musical) ratings: 5 235 (Comedy|Drama) ratings: 5 2282 (Comedy|Drama) ratings: 5 3253 (Comedy) ratings: 5 497 (Comedy|Romance) ratings: 5\\n1584 (Drama|Sci-Fi) ratings: 4 588 (Animation|Children's|Comedy|Musical) ratings: 1 377 (Action|Romance|Thriller) ratings: 4 805 (Drama) ratings: 3 1517 (Comedy) ratings: 3 380 (Action|Adventure|Comedy|Romance) ratings: 4 2353 (Action|Thriller) ratings: 3 474 (Action|Thriller) ratings: 4 6 (Action|Crime|Thriller) ratings: 3\\n1907 (Animation|Children's) ratings: 1 62 (Drama) ratings: 4 1721 (Drama|Romance) ratings: 3 524 (Drama) ratings: 4 3052 (Comedy) ratings: 1\\n29 (Adventure|Sci-Fi) ratings: 3 1265 (Comedy|Romance) ratings: 5 2101 (Adventure|Drama) ratings: 2 2706 (Comedy) ratings: 1 2712 (Drama) ratings: 1\\n1 (Animation|Children's|Comedy) ratings: 5 1148 (Animation|Comedy) ratings: 5 3114 (Animation|Children's|Comedy) ratings: 5 3751 (Animation|Children's|Comedy) ratings: 5 1223 (Animation|Comedy) ratings: 5 2987 (Adventure|Animation|Film-Noir) ratings: 4 588 (Animation|Children's|Comedy|Musical) ratings: 5 2080 (Animation|Children's|Comedy|Musical|Romance) ratings: 4 2857 (Animation|Musical) ratings: 4 2137 (Animation|Children's) ratings: 5\\n1907 (Animation|Children's) ratings: 2 2081 (Animation|Children's|Comedy|Musical|Romance) ratings: 4 2294 (Animation|Children's) ratings: 5 3034 (Animation|Children's) ratings: 4 2099 (Adventure|Animation|Children's|Musical) ratings: 5\\n48 (Animation|Children's|Musical|Romance) ratings: 2 919 (Adventure|Children's|Drama|Musical) ratings: 5 2863 (Comedy|Musical) ratings: 5 73 (Drama|Musical) ratings: 5 899 (Musical|Romance) ratings: 5 914 (Musical|Romance) ratings: 5 1947 (Musical|Romance) ratings: 5\\n3213 (Animation|Children's) ratings: 2 2294 (Animation|Children's) ratings: 2 2355 (Animation|Children's|Comedy) ratings: 4 661 (Animation|Children's|Musical) ratings: 2 3159 (Animation|Children's|Musical) ratings: 5\\n1907 (Animation|Children's) ratings: 3 783 (Animation|Children's|Musical) ratings: 3 1405 (Animation|Comedy) ratings: 2 2092 (Animation|Children's|Musical) ratings: 3 3400 (Animation|Children's) ratings: 3\\n48 (Animation|Children's|Musical|Romance) ratings: 1 1805 (Crime|Drama|Mystery|Thriller) ratings: 3 3386 (Drama|Mystery) ratings: 2 648 (Action|Adventure|Mystery) ratings: 3 3262 (Drama|Mystery) ratings: 3 427 (Mystery|Romance|Thriller) ratings: 3\\n3706 (Film-Noir|Mystery|Thriller) ratings: 4 444 (Comedy|Romance) ratings: 4 1772 (Action|Comedy|Musical) ratings: 3 1220 (Action|Comedy|Musical) ratings: 5 720 (Animation) ratings: 5 3429 (Animation|Comedy) ratings: 5 3751 (Animation|Children's|Comedy) ratings: 5 2987 (Adventure|Animation|Film-Noir) ratings: 4 1223 (Animation|Comedy) ratings: 5 2857 (Animation|Musical) ratings: 5 2137 (Animation|Children's) ratings: 5 610 (Action|Adventure|Animation|Horror|Sci-Fi) ratings: 4 2355 (Animation|Children's|Comedy) ratings: 4\\n1907 (Animation|Children's) ratings: 1 2081 (Animation|Children's|Comedy|Musical|Romance) ratings: 1 2394 (Animation|Musical) ratings: 1 364 (Animation|Children's|Musical) ratings: 1 2090 (Animation|Children's) ratings: 1\\n1405 (Animation|Comedy) ratings: 4 783 (Animation|Children's|Musical) ratings: 1 1688 (Animation|Children's|Musical) ratings: 1 3483 (Animation|Children's) ratings: 1 48 (Animation|Children's|Musical|Romance) ratings: 1\\n529 (Drama) ratings: 4 1219 (Horror|Thriller) ratings: 1 592 (Action|Adventure|Crime|Drama) ratings: 4 1017 (Adventure|Children's) ratings: 3 3070 (Adventure|Comedy|Sci-Fi) ratings: 3\\n1907 (Animation|Children's) ratings: 4 1663 (Comedy) ratings: 3 1294 (Comedy|War) ratings: 2 3028 (Comedy) ratings: 3 1296 (Drama|Romance) ratings: 3\\n2174 (Comedy|Fantasy) ratings: 2 2947 (Action) ratings: 4 480 (Action|Adventure|Sci-Fi) ratings: 4 1302 (Drama) ratings: 2 1376 (Action|Adventure|Sci-Fi) ratings: 3 3406 (Action|Adventure|War) ratings: 4 2000 (Action|Comedy|Crime|Drama) ratings: 3\\n1028 (Children's|Comedy|Musical) ratings: 4 1245 (Drama) ratings: 5 2745 (Drama) ratings: 4 3354 (Sci-Fi) ratings: 2 1136 (Comedy) ratings: 3 1080 (Comedy) ratings: 3 500 (Comedy) ratings: 4\\n1907 (Animation|Children's) ratings: 4 1931 (Adventure) ratings: 4 3189 (Comedy) ratings: 5 3098 (Drama) ratings: 3 2161 (Adventure|Children's|Fantasy) ratings: 4\\n968 (Horror|Sci-Fi) ratings: 5 2613 (Action|Horror|Sci-Fi) ratings: 4 3405 (Action|Drama) ratings: 5 1347 (Horror) ratings: 4 1012 (Children's|Drama) ratings: 3 1124 (Drama) ratings: 3\\n2078 (Animation|Children's|Comedy|Musical) ratings: 4 2085 (Animation|Children's) ratings: 4 783 (Animation|Children's|Musical) ratings: 2 2876 (Animation|Children's) ratings: 2 3397 (Children's|Comedy) ratings: 3 1032 (Animation|Children's|Musical) ratings: 4 1073 (Adventure|Children's|Comedy|Fantasy) ratings: 5 2102 (Animation|Children's|Comedy|Musical) ratings: 4 661 (Animation|Children's|Musical) ratings: 3\\n1907 (Animation|Children's) ratings: 5 1015 (Adventure|Children's) ratings: 4 1023 (Animation|Children's) ratings: 4 531 (Children's|Drama) ratings: 4 986 (Adventure|Children's) ratings: 4 2687 (Animation|Children's) ratings: 4 3672 (Adventure|Children's) ratings: 4 1033 (Animation|Children's) ratings: 4 2090 (Animation|Children's) ratings: 4 616 (Animation|Children's) ratings: 5\\n107 (Adventure|Children's|Comedy|Musical) ratings: 1 1919 (Children's|Comedy) ratings: 2 1007 (Children's|Comedy|Western) ratings: 3 586 (Children's|Comedy) ratings: 5 1025 (Animation|Children's) ratings: 4\""
      ]
     },
     "execution_count": 19,
     "metadata": {},
     "output_type": "execute_result"
    }
   ],
   "source": [
    "context_results = get_documents_with_context(vectorstore, query, k=10, context_window=1)\n",
    "# 중첩된 리스트 평탄화\n",
    "flattened_results = [doc for sublist in context_results for doc in sublist]\n",
    "record_summary = \"\\n\".join([doc.page_content for doc in flattened_results])\n",
    "record_summary"
   ]
  },
  {
   "cell_type": "markdown",
   "metadata": {},
   "source": [
    "# 그래프 구조를 활용하여 검색된 사람들의 교집합 정리 "
   ]
  },
  {
   "cell_type": "code",
   "execution_count": 20,
   "metadata": {},
   "outputs": [
    {
     "name": "stdout",
     "output_type": "stream",
     "text": [
      "Movie 2090: watched by 4 users\n",
      "Movie 1025: watched by 3 users\n",
      "Movie 2137: watched by 3 users\n",
      "Movie 2081: watched by 3 users\n",
      "Movie 48: watched by 3 users\n",
      "Movie 3253: watched by 2 users\n",
      "Movie 1033: watched by 2 users\n",
      "Movie 2876: watched by 2 users\n",
      "Movie 2096: watched by 2 users\n",
      "Movie 2085: watched by 2 users\n",
      "Movie 2078: watched by 2 users\n",
      "Movie 3034: watched by 2 users\n",
      "Movie 2092: watched by 2 users\n",
      "Movie 1265: watched by 2 users\n"
     ]
    }
   ],
   "source": [
    "import networkx as nx\n",
    "import matplotlib.pyplot as plt\n",
    "from collections import defaultdict\n",
    "import re\n",
    "\n",
    "def get_user_movies(data):\n",
    "    user_movies = defaultdict(list)\n",
    "\n",
    "    for doc in data:\n",
    "        user_id = doc.metadata['UserId']\n",
    "        page_content = doc.page_content\n",
    "\n",
    "        # 정규식을 사용하여 영화 ID 추출 (ratings 이전 내용만)\n",
    "        movie_ids = re.findall(r'(\\d+)(?= \\()', page_content)\n",
    "\n",
    "        # 사용자별로 영화 ID 추가\n",
    "        user_movies[user_id].extend(movie_ids)\n",
    "\n",
    "    return user_movies\n",
    "\n",
    "def create_user_movie_graph(user_movies):\n",
    "    # 그래프 생성\n",
    "    G = nx.Graph()\n",
    "\n",
    "    # 사용자와 영화 노드 추가 및 엣지 생성\n",
    "    for user_id, movies in user_movies.items():\n",
    "        user_node = f\"User {user_id}\"\n",
    "        G.add_node(user_node, type='user')\n",
    "\n",
    "        for movie_id in movies:\n",
    "            movie_node = f\"Movie {movie_id}\"\n",
    "            G.add_node(movie_node, type='movie')\n",
    "            G.add_edge(user_node, movie_node)\n",
    "\n",
    "    return G\n",
    "\n",
    "def visualize_graph(G):\n",
    "    # 그래프 시각화\n",
    "    plt.figure(figsize=(20, 15))\n",
    "\n",
    "    # 사용자와 영화 노드 분리\n",
    "    users = [node for node in G.nodes() if G.nodes[node]['type'] == 'user']\n",
    "    movies = [node for node in G.nodes() if G.nodes[node]['type'] == 'movie']\n",
    "\n",
    "    # 레이아웃 설정\n",
    "    pos = nx.spring_layout(G, k=0.5, iterations=50)\n",
    "\n",
    "    # 노드 그리기\n",
    "    nx.draw_networkx_nodes(G, pos, nodelist=users, node_color='lightblue', node_size=300, alpha=0.8)\n",
    "    nx.draw_networkx_nodes(G, pos, nodelist=movies, node_color='lightgreen', node_size=200, alpha=0.8)\n",
    "\n",
    "    # 엣지 그리기\n",
    "    nx.draw_networkx_edges(G, pos, alpha=0.5)\n",
    "\n",
    "    # 레이블 그리기\n",
    "    nx.draw_networkx_labels(G, pos, font_size=8, font_weight=\"bold\")\n",
    "\n",
    "    plt.title(\"User-Movie Relationship Graph\", fontsize=16)\n",
    "    plt.axis('off')\n",
    "    plt.tight_layout()\n",
    "\n",
    "    # 그래프 저장\n",
    "    plt.savefig('user_movie_graph.png', dpi=300, bbox_inches='tight')\n",
    "    plt.close()\n",
    "\n",
    "import re\n",
    "\n",
    "# 과거 기록에서 영화 ID 추출\n",
    "def extract_previous_movie_ids(purchase_history):\n",
    "    # 영화 ID만 추출 (숫자와 괄호 전까지만 가져옴)\n",
    "    previous_movies = re.findall(r'(\\d+)(?=\\s\\()', ' '.join(purchase_history))\n",
    "    return set(previous_movies)\n",
    "\n",
    "# 동시 시청 영화에서 이전 기록을 제외하는 함수\n",
    "def filter_movies_by_history(top_movies, previous_movie_ids):\n",
    "    # 영화 ID만 추출하여 비교 후 제외\n",
    "    filtered_movies = [(movie, count) for movie, count in top_movies if movie.split()[1] not in previous_movie_ids]\n",
    "    return filtered_movies\n",
    "def get_top_10_common_movies(G):\n",
    "    # 영화 노드만 필터링\n",
    "    movies = [node for node in G.nodes() if G.nodes[node]['type'] == 'movie']\n",
    "\n",
    "    # 영화별 연결된 사용자 수 계산\n",
    "    movie_view_counts = {movie: len(list(G.neighbors(movie))) for movie in movies}\n",
    "\n",
    "    # 사용자 수 기준으로 내림차순 정렬하여 상위 10개 추출\n",
    "    top_10_movies = sorted(movie_view_counts.items(), key=lambda x: x[1], reverse=True)[:20]\n",
    "\n",
    "    # 결과 반환\n",
    "    return top_10_movies\n",
    "\n",
    "# 사용자별 영화 ID 가져오기\n",
    "user_movies = get_user_movies(flattened_results)\n",
    "\n",
    "# 사용자-영화 그래프 생성\n",
    "G = create_user_movie_graph(user_movies)\n",
    "\n",
    "previous_movie_ids = extract_previous_movie_ids(purchase_history)\n",
    "\n",
    "# Top-10 영화 리스트 가져오기\n",
    "top_movies = get_top_10_common_movies(G)\n",
    "\n",
    "# 이전 기록에 포함되지 않은 영화만 필터링\n",
    "filtered_movies = filter_movies_by_history(top_movies, previous_movie_ids)\n",
    "\n",
    "# 결과 출력\n",
    "for movie, count in filtered_movies:\n",
    "    print(f\"{movie}: watched by {count} users\")\n",
    "\n"
   ]
  },
  {
   "cell_type": "markdown",
   "metadata": {},
   "source": [
    "- gpt-4o-mini는 128k 토큰 입력을 받을 수 있다."
   ]
  },
  {
   "cell_type": "markdown",
   "metadata": {},
   "source": [
    "### test"
   ]
  },
  {
   "cell_type": "code",
   "execution_count": 22,
   "metadata": {},
   "outputs": [],
   "source": [
    "import re\n",
    "import pandas as pd\n",
    "from langchain_core.output_parsers import StrOutputParser\n",
    "from langchain_openai import ChatOpenAI\n",
    "from langchain.prompts import ChatPromptTemplate\n",
    "\n",
    "\n",
    "\n",
    "# 결과를 저장할 리스트\n",
    "results = []\n",
    "\n",
    "# 1부터 30까지 반복\n",
    "for idx in range(0, 6040):\n",
    "    # 정답 추출\n",
    "    test_answer = df_test.iloc[idx]['movie_explain']\n",
    "\n",
    "    # movie_name 추출\n",
    "    try:\n",
    "        movie_name = re.search(r\"\\d+\", test_answer).group()\n",
    "    except AttributeError:\n",
    "        movie_name = None  # 매칭 실패 시 None으로 처리\n",
    "\n",
    "    ##-------------------------------------------------------------\n",
    "\n",
    "    purchase_history = data.iloc[idx]['movie_explain']\n",
    "    query = \" \".join(purchase_history[-1:])\n",
    "\n",
    "    context_results = get_documents_with_context(vectorstore, query, k=10, context_window=1)\n",
    "    # 중첩된 리스트 평탄화\n",
    "    flattened_results = [doc for sublist in context_results for doc in sublist]\n",
    "    user_movies = get_user_movies(flattened_results)\n",
    "    G = create_user_movie_graph(user_movies)\n",
    "    previous_movie_ids = extract_previous_movie_ids(purchase_history)\n",
    "    top_movies = get_top_10_common_movies(G)\n",
    "    filtered_movies = filter_movies_by_history(top_movies, previous_movie_ids)\n",
    "\n",
    "    # filtered_movies를 프롬프트 형식에 맞게 변환\n",
    "    record_summary = \"\\n\".join([\n",
    "        f\"{movie}: watched by {count} users\"\n",
    "        for movie, count in filtered_movies[:10]\n",
    "    ])\n",
    "\n",
    "    # LLM 프롬프트 생성\n",
    "    template = \"\"\"\n",
    "Based on the following frequently watched movies:\n",
    "{record_summary}\n",
    "\n",
    "Recommend 10 movies for the user. Prioritize movies that:\n",
    "1. Appear frequently in the given record summary.\n",
    "2. Match user preferences based on similar viewers.\n",
    "\n",
    "Provide recommendations as:\n",
    "- Movie ID\n",
    "- Movie ID\n",
    "...\n",
    "- Movie ID\n",
    "\"\"\"\n",
    "\n",
    "    prompt = ChatPromptTemplate.from_template(template)\n",
    "\n",
    "    # LLM 연결 및 실행\n",
    "    llm = ChatOpenAI(model_name=\"gpt-4o-mini\", temperature=0)\n",
    "    chain = prompt | llm | StrOutputParser()\n",
    "\n",
    "    try:\n",
    "        response = chain.invoke({\"record_summary\": record_summary})\n",
    "\n",
    "        # movie_title 추출\n",
    "        movie_titles = re.findall(r\"(\\d+)\", response)\n",
    "    except Exception as e:\n",
    "        movie_titles = []  # 오류 발생 시 빈 리스트 처리\n",
    "\n",
    "    # movie_name이 movie_titles에 포함되는지 여부\n",
    "    is_included = movie_name in movie_titles if movie_name else False\n",
    "\n",
    "    # 결과 저장\n",
    "    results.append({\n",
    "        \"movie_title\": movie_titles,\n",
    "        \"movie_name\": movie_name,\n",
    "        \"is_included\": is_included\n",
    "\n",
    "\n",
    "    })\n",
    "\n",
    "# 결과를 DataFrame으로 변환\n",
    "results_df = pd.DataFrame(results)\n"
   ]
  },
  {
   "cell_type": "code",
   "execution_count": 23,
   "metadata": {},
   "outputs": [
    {
     "data": {
      "text/html": [
       "<div>\n",
       "<style scoped>\n",
       "    .dataframe tbody tr th:only-of-type {\n",
       "        vertical-align: middle;\n",
       "    }\n",
       "\n",
       "    .dataframe tbody tr th {\n",
       "        vertical-align: top;\n",
       "    }\n",
       "\n",
       "    .dataframe thead th {\n",
       "        text-align: right;\n",
       "    }\n",
       "</style>\n",
       "<table border=\"1\" class=\"dataframe\">\n",
       "  <thead>\n",
       "    <tr style=\"text-align: right;\">\n",
       "      <th></th>\n",
       "      <th>movie_title</th>\n",
       "      <th>movie_name</th>\n",
       "      <th>is_included</th>\n",
       "    </tr>\n",
       "  </thead>\n",
       "  <tbody>\n",
       "    <tr>\n",
       "      <th>0</th>\n",
       "      <td>[10, 2090, 1025, 2137, 2081, 48, 3253, 1033, 2...</td>\n",
       "      <td>48</td>\n",
       "      <td>True</td>\n",
       "    </tr>\n",
       "    <tr>\n",
       "      <th>1</th>\n",
       "      <td>[10, 1779, 1391, 173, 1917, 1037, 196, 1831, 2...</td>\n",
       "      <td>1917</td>\n",
       "      <td>True</td>\n",
       "    </tr>\n",
       "    <tr>\n",
       "      <th>2</th>\n",
       "      <td>[10, 3861, 3869, 3948, 3566, 3618, 3785, 3617,...</td>\n",
       "      <td>2081</td>\n",
       "      <td>False</td>\n",
       "    </tr>\n",
       "    <tr>\n",
       "      <th>3</th>\n",
       "      <td>[10, 110, 2571, 1954, 1258, 1617, 1704, 1197, ...</td>\n",
       "      <td>1954</td>\n",
       "      <td>True</td>\n",
       "    </tr>\n",
       "    <tr>\n",
       "      <th>4</th>\n",
       "      <td>[10, 832, 1094, 597, 2694, 3717, 70, 2325, 585...</td>\n",
       "      <td>288</td>\n",
       "      <td>False</td>\n",
       "    </tr>\n",
       "    <tr>\n",
       "      <th>...</th>\n",
       "      <td>...</td>\n",
       "      <td>...</td>\n",
       "      <td>...</td>\n",
       "    </tr>\n",
       "    <tr>\n",
       "      <th>6035</th>\n",
       "      <td>[10, 3662, 2717, 2163, 879, 3476, 2003, 2367, ...</td>\n",
       "      <td>2643</td>\n",
       "      <td>False</td>\n",
       "    </tr>\n",
       "    <tr>\n",
       "      <th>6036</th>\n",
       "      <td>[10, 1345, 1258, 1278, 2716, 1350, 2454, 3476,...</td>\n",
       "      <td>435</td>\n",
       "      <td>False</td>\n",
       "    </tr>\n",
       "    <tr>\n",
       "      <th>6037</th>\n",
       "      <td>[10, 223, 3052, 2997, 2858, 2396, 3253, 1517, ...</td>\n",
       "      <td>1183</td>\n",
       "      <td>False</td>\n",
       "    </tr>\n",
       "    <tr>\n",
       "      <th>6038</th>\n",
       "      <td>[10, 1254, 908, 527, 969, 1207, 1221, 2028, 11...</td>\n",
       "      <td>1254</td>\n",
       "      <td>True</td>\n",
       "    </tr>\n",
       "    <tr>\n",
       "      <th>6039</th>\n",
       "      <td>[10, 1619, 1672, 1810, 2532, 356, 1643, 440, 6...</td>\n",
       "      <td>1221</td>\n",
       "      <td>False</td>\n",
       "    </tr>\n",
       "  </tbody>\n",
       "</table>\n",
       "<p>6040 rows × 3 columns</p>\n",
       "</div>"
      ],
      "text/plain": [
       "                                            movie_title movie_name  \\\n",
       "0     [10, 2090, 1025, 2137, 2081, 48, 3253, 1033, 2...         48   \n",
       "1     [10, 1779, 1391, 173, 1917, 1037, 196, 1831, 2...       1917   \n",
       "2     [10, 3861, 3869, 3948, 3566, 3618, 3785, 3617,...       2081   \n",
       "3     [10, 110, 2571, 1954, 1258, 1617, 1704, 1197, ...       1954   \n",
       "4     [10, 832, 1094, 597, 2694, 3717, 70, 2325, 585...        288   \n",
       "...                                                 ...        ...   \n",
       "6035  [10, 3662, 2717, 2163, 879, 3476, 2003, 2367, ...       2643   \n",
       "6036  [10, 1345, 1258, 1278, 2716, 1350, 2454, 3476,...        435   \n",
       "6037  [10, 223, 3052, 2997, 2858, 2396, 3253, 1517, ...       1183   \n",
       "6038  [10, 1254, 908, 527, 969, 1207, 1221, 2028, 11...       1254   \n",
       "6039  [10, 1619, 1672, 1810, 2532, 356, 1643, 440, 6...       1221   \n",
       "\n",
       "      is_included  \n",
       "0            True  \n",
       "1            True  \n",
       "2           False  \n",
       "3            True  \n",
       "4           False  \n",
       "...           ...  \n",
       "6035        False  \n",
       "6036        False  \n",
       "6037        False  \n",
       "6038         True  \n",
       "6039        False  \n",
       "\n",
       "[6040 rows x 3 columns]"
      ]
     },
     "execution_count": 23,
     "metadata": {},
     "output_type": "execute_result"
    }
   ],
   "source": [
    "results_df"
   ]
  },
  {
   "cell_type": "markdown",
   "metadata": {},
   "source": [
    "## Evaluation"
   ]
  },
  {
   "cell_type": "code",
   "execution_count": 27,
   "metadata": {},
   "outputs": [],
   "source": [
    "results_df.is_included.value_counts()\n",
    "results_df.to_csv('first_ex_meta_enrich_graph.csv',index=False)"
   ]
  },
  {
   "cell_type": "markdown",
   "metadata": {},
   "source": [
    "### HIT@5"
   ]
  },
  {
   "cell_type": "code",
   "execution_count": 26,
   "metadata": {},
   "outputs": [
    {
     "name": "stdout",
     "output_type": "stream",
     "text": [
      "Hit@10: 0.08509933774834437\n"
     ]
    }
   ],
   "source": [
    "df =results_df\n",
    "\n",
    "# Hit@k 계산 (k=5)\n",
    "k = 10\n",
    "df['hit'] = df.apply(lambda row: row['movie_name'] in row['movie_title'][:k], axis=1)\n",
    "\n",
    "# 전체 Hit@k 계산\n",
    "hit_at_k = df['hit'].mean()  # Hit@k 비율\n",
    "print(f\"Hit@{k}: {hit_at_k}\")\n"
   ]
  }
 ],
 "metadata": {
  "kernelspec": {
   "display_name": "rag_rec",
   "language": "python",
   "name": "python3"
  },
  "language_info": {
   "codemirror_mode": {
    "name": "ipython",
    "version": 3
   },
   "file_extension": ".py",
   "mimetype": "text/x-python",
   "name": "python",
   "nbconvert_exporter": "python",
   "pygments_lexer": "ipython3",
   "version": "3.13.2"
  }
 },
 "nbformat": 4,
 "nbformat_minor": 2
}
